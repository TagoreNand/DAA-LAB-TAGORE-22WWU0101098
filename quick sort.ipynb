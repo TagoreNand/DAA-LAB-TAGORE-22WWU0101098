{
 "cells": [
  {
   "cell_type": "code",
   "execution_count": 1,
   "id": "bd094a14",
   "metadata": {},
   "outputs": [
    {
     "name": "stdout",
     "output_type": "stream",
     "text": [
      "[1, 1, 2, 3, 6, 8, 10]\n"
     ]
    }
   ],
   "source": [
    "def cust_sort(arr):\n",
    "    if len(arr) <= 1:\n",
    "        return arr\n",
    "\n",
    "    pivot = arr[len(arr) // 2]\n",
    "    less_than_pivot = [x for x in arr if x < pivot]\n",
    "    equal_to_pivot = [x for x in arr if x == pivot]\n",
    "    greater_than_pivot = [x for x in arr if x > pivot]\n",
    "\n",
    "    return cust_sort(less_than_pivot) + equal_to_pivot + cust_sort(greater_than_pivot)\n",
    "\n",
    "arr = [3, 6, 8, 10, 1, 2, 1]\n",
    "sorted_arr = cust_sort(arr)\n",
    "print(sorted_arr)\n"
   ]
  },
  {
   "cell_type": "code",
   "execution_count": null,
   "id": "fa1f5ec3",
   "metadata": {},
   "outputs": [],
   "source": []
  }
 ],
 "metadata": {
  "kernelspec": {
   "display_name": "Python 3 (ipykernel)",
   "language": "python",
   "name": "python3"
  },
  "language_info": {
   "codemirror_mode": {
    "name": "ipython",
    "version": 3
   },
   "file_extension": ".py",
   "mimetype": "text/x-python",
   "name": "python",
   "nbconvert_exporter": "python",
   "pygments_lexer": "ipython3",
   "version": "3.11.5"
  }
 },
 "nbformat": 4,
 "nbformat_minor": 5
}
