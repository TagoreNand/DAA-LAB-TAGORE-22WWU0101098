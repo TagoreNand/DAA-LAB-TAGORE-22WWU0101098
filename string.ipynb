{
 "cells": [
  {
   "cell_type": "code",
   "execution_count": 1,
   "id": "b14c74fe",
   "metadata": {},
   "outputs": [
    {
     "name": "stdout",
     "output_type": "stream",
     "text": [
      "Indices of 'ABCD' in the main string: [3, 10]\n"
     ]
    }
   ],
   "source": [
    "input_value = 'ABCD'\n",
    "str_main = 'ABCABCDAABABCDAACC'\n",
    "\n",
    "indices = [i for i in range(len(str_main) - len(input_value) + 1) if str_main.find(input_value, i) == i]\n",
    "\n",
    "print(f\"Indices of '{input_value}' in the main string: {indices}\")\n",
    "\n"
   ]
  },
  {
   "cell_type": "code",
   "execution_count": null,
   "id": "8d2a410c",
   "metadata": {},
   "outputs": [],
   "source": []
  }
 ],
 "metadata": {
  "kernelspec": {
   "display_name": "Python 3 (ipykernel)",
   "language": "python",
   "name": "python3"
  },
  "language_info": {
   "codemirror_mode": {
    "name": "ipython",
    "version": 3
   },
   "file_extension": ".py",
   "mimetype": "text/x-python",
   "name": "python",
   "nbconvert_exporter": "python",
   "pygments_lexer": "ipython3",
   "version": "3.11.5"
  }
 },
 "nbformat": 4,
 "nbformat_minor": 5
}
