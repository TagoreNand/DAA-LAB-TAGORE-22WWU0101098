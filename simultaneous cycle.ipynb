{
 "cells": [
  {
   "cell_type": "code",
   "execution_count": 1,
   "id": "5df1cb29",
   "metadata": {},
   "outputs": [
    {
     "name": "stdout",
     "output_type": "stream",
     "text": [
      "No path found.\n"
     ]
    }
   ],
   "source": [
    "def find_path(node, visited, path, start):\n",
    "    visited[node] = True\n",
    "    path.append(node)\n",
    "    if len(path) == len(graph):\n",
    "        if start in graph[node]:\n",
    "            path.append(start)\n",
    "            return path\n",
    "    for neighbor in graph[node]:\n",
    "        if not visited[neighbor]:\n",
    "            result = find_path(neighbor, visited, path, start)\n",
    "            if result:\n",
    "                return result\n",
    "    visited[node] = False\n",
    "    path.pop()\n",
    "    return None\n",
    "\n",
    "graph = {\n",
    "    0: [1, 2],\n",
    "    1: [2, 3,],\n",
    "    2: [3, 4],\n",
    "    3: [4,5],\n",
    "    4: [5, 2],\n",
    "    5: [5,6],\n",
    "    6: [2,6],\n",
    "    7: [1,3]\n",
    "}\n",
    "\n",
    "path = find_path(0, [False] * len(graph), [], 1)\n",
    "if path:\n",
    "    print(\"Path:\", \" -> \".join(map(str, path)))\n",
    "else:\n",
    "    print(\"No path found.\")"
   ]
  },
  {
   "cell_type": "code",
   "execution_count": null,
   "id": "f8bef25d",
   "metadata": {},
   "outputs": [],
   "source": []
  }
 ],
 "metadata": {
  "kernelspec": {
   "display_name": "Python 3 (ipykernel)",
   "language": "python",
   "name": "python3"
  },
  "language_info": {
   "codemirror_mode": {
    "name": "ipython",
    "version": 3
   },
   "file_extension": ".py",
   "mimetype": "text/x-python",
   "name": "python",
   "nbconvert_exporter": "python",
   "pygments_lexer": "ipython3",
   "version": "3.11.5"
  }
 },
 "nbformat": 4,
 "nbformat_minor": 5
}
