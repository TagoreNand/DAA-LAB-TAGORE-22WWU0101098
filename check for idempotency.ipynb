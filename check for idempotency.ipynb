{
 "cells": [
  {
   "cell_type": "code",
   "execution_count": 1,
   "id": "11ac12b2",
   "metadata": {},
   "outputs": [
    {
     "name": "stdout",
     "output_type": "stream",
     "text": [
      "The given matrix exhibits idempotency.\n",
      "The original matrix is equal to the idempotent matrix.\n"
     ]
    }
   ],
   "source": [
    "def check_idempotency(mat):\n",
    "    if len(mat) != len(mat[0]):\n",
    "        return False, None\n",
    "    \n",
    "    result = multiply(mat, mat)\n",
    "    \n",
    "    return result == mat, result\n",
    "\n",
    "def multiply(mat1, mat2):\n",
    "    rows_mat1 = len(mat1)\n",
    "    cols_mat1 = len(mat1[0])\n",
    "    cols_mat2 = len(mat2[0])\n",
    "    \n",
    "    res = [[0 for _ in range(cols_mat2)] for _ in range(rows_mat1)]\n",
    "    \n",
    "    for i in range(rows_mat1):\n",
    "        for j in range(cols_mat2):\n",
    "            for k in range(cols_mat1):\n",
    "                res[i][j] += mat1[i][k] * mat2[k][j]\n",
    "    \n",
    "    return res\n",
    "\n",
    "\n",
    "matrix = [\n",
    "    [2, -2, -4],\n",
    "    [-1, 3, 4],\n",
    "    [1, -2, -3]\n",
    "]\n",
    "\n",
    "is_idempotent, idempotent_matrix = check_idempotency(matrix)\n",
    "\n",
    "if is_idempotent:\n",
    "    print(\"The given matrix exhibits idempotency.\")\n",
    "    if matrix == idempotent_matrix:\n",
    "        print(\"The original matrix is equal to the idempotent matrix.\")\n",
    "else:\n",
    "    print(\"The provided matrix does not show idempotency.\")\n"
   ]
  },
  {
   "cell_type": "code",
   "execution_count": null,
   "id": "33b357e1",
   "metadata": {},
   "outputs": [],
   "source": []
  }
 ],
 "metadata": {
  "kernelspec": {
   "display_name": "Python 3 (ipykernel)",
   "language": "python",
   "name": "python3"
  },
  "language_info": {
   "codemirror_mode": {
    "name": "ipython",
    "version": 3
   },
   "file_extension": ".py",
   "mimetype": "text/x-python",
   "name": "python",
   "nbconvert_exporter": "python",
   "pygments_lexer": "ipython3",
   "version": "3.11.5"
  }
 },
 "nbformat": 4,
 "nbformat_minor": 5
}
