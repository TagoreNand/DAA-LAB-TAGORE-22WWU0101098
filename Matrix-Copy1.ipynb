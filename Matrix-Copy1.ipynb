{
 "cells": [
  {
   "cell_type": "code",
   "execution_count": 1,
   "id": "d4e79134",
   "metadata": {},
   "outputs": [],
   "source": [
    "matrix = [\n",
    "    [12, 15, 18],\n",
    "    [21, 24, 27],\n",
    "    [30, 33, 36]\n",
    "]\n",
    "\n",
    "result_list = []\n",
    "\n",
    "for row in matrix:\n",
    "    for element in row:\n",
    "        result = element / 3\n",
    "        result_list.append(result)\n",
    "\n",
    "final_result_list = [result * 3 for result in result_list]\n",
    "result_ = result * 3\n",
    "\n",
    "for result_ in final_result_list:\n",
    "    if result_ > 50:\n",
    "        print(result_)\n"
   ]
  },
  {
   "cell_type": "code",
   "execution_count": null,
   "id": "21067ada",
   "metadata": {},
   "outputs": [],
   "source": []
  }
 ],
 "metadata": {
  "kernelspec": {
   "display_name": "Python 3 (ipykernel)",
   "language": "python",
   "name": "python3"
  },
  "language_info": {
   "codemirror_mode": {
    "name": "ipython",
    "version": 3
   },
   "file_extension": ".py",
   "mimetype": "text/x-python",
   "name": "python",
   "nbconvert_exporter": "python",
   "pygments_lexer": "ipython3",
   "version": "3.11.5"
  }
 },
 "nbformat": 4,
 "nbformat_minor": 5
}
