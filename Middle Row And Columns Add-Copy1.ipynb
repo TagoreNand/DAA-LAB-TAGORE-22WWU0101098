{
 "cells": [
  {
   "cell_type": "code",
   "execution_count": 1,
   "id": "63d2fa73",
   "metadata": {},
   "outputs": [
    {
     "name": "stdout",
     "output_type": "stream",
     "text": [
      "Sum of middle row and middle column (excluding repeating element): 48\n"
     ]
    }
   ],
   "source": [
    "def add_middle_elements(matrix):\n",
    "    num_rows = len(matrix)\n",
    "    num_cols = len(matrix[0])\n",
    "\n",
    "    middle_row_index = num_rows // 2\n",
    "    middle_col_index = num_cols // 2\n",
    "\n",
    "    repeating_element = matrix[middle_row_index][middle_col_index]\n",
    "\n",
    "    middle_row_sum = 0\n",
    "    middle_col_sum = 0\n",
    "\n",
    "    j = 0\n",
    "    while j < num_cols:\n",
    "        if j != middle_col_index:\n",
    "            middle_row_sum += matrix[middle_row_index][j]\n",
    "        j += 1\n",
    "\n",
    "    i = 0\n",
    "    while i < num_rows:\n",
    "        if i != middle_row_index:\n",
    "            middle_col_sum += matrix[i][middle_col_index]\n",
    "        i += 1\n",
    "\n",
    "    total_sum = middle_row_sum + middle_col_sum\n",
    "\n",
    "    return total_sum\n",
    "\n",
    "matrix = [\n",
    "    [1, 2, 3, 4, 5],\n",
    "    [6, 7, 8, 9, 10],\n",
    "    [11, 12, 13, 14, 15]\n",
    "    ]\n",
    "\n",
    "result = add_middle_elements(matrix)\n",
    "print(f\"Sum of middle row and middle column (excluding repeating element): {result}\")\n"
   ]
  },
  {
   "cell_type": "code",
   "execution_count": null,
   "id": "bb2f949b",
   "metadata": {},
   "outputs": [],
   "source": []
  }
 ],
 "metadata": {
  "kernelspec": {
   "display_name": "Python 3 (ipykernel)",
   "language": "python",
   "name": "python3"
  },
  "language_info": {
   "codemirror_mode": {
    "name": "ipython",
    "version": 3
   },
   "file_extension": ".py",
   "mimetype": "text/x-python",
   "name": "python",
   "nbconvert_exporter": "python",
   "pygments_lexer": "ipython3",
   "version": "3.11.5"
  }
 },
 "nbformat": 4,
 "nbformat_minor": 5
}
