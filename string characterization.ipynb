{
 "cells": [
  {
   "cell_type": "code",
   "execution_count": 1,
   "id": "b0758fe5",
   "metadata": {},
   "outputs": [
    {
     "name": "stdout",
     "output_type": "stream",
     "text": [
      "Indices of 'ABCD' in the main string: [4, 11]\n"
     ]
    }
   ],
   "source": [
    "input_string = 'ABCD'\n",
    "main_string = ' ABCABCDAABABCDAACC'\n",
    "\n",
    "indices = []\n",
    "\n",
    "for i in range(len(main_string) - len(input_string) + 1):\n",
    "    if main_string[i:i+len(input_string)] == input_string:\n",
    "        indices.append(i)\n",
    "\n",
    "print(f\"Indices of '{input_string}' in the main string: {indices}\")"
   ]
  },
  {
   "cell_type": "code",
   "execution_count": null,
   "id": "ae5a119e",
   "metadata": {},
   "outputs": [],
   "source": []
  }
 ],
 "metadata": {
  "kernelspec": {
   "display_name": "Python 3 (ipykernel)",
   "language": "python",
   "name": "python3"
  },
  "language_info": {
   "codemirror_mode": {
    "name": "ipython",
    "version": 3
   },
   "file_extension": ".py",
   "mimetype": "text/x-python",
   "name": "python",
   "nbconvert_exporter": "python",
   "pygments_lexer": "ipython3",
   "version": "3.11.5"
  }
 },
 "nbformat": 4,
 "nbformat_minor": 5
}
