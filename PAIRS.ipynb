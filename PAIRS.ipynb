{
 "cells": [
  {
   "cell_type": "code",
   "execution_count": null,
   "id": "ae35845c",
   "metadata": {},
   "outputs": [],
   "source": [
    "def generate_pairs(alphanumeric):\n",
    "    \n",
    "    num_to_letters = {\n",
    "        '2': 'abc',\n",
    "        '3': 'def',\n",
    "        '4': 'ghi',\n",
    "        '5': 'jkl',\n",
    "        '6': 'mno',\n",
    "        '7': 'pqrs',\n",
    "        '8': 'tuv',\n",
    "        '9': 'wxyz',\n",
    "    }\n",
    "\n",
    "    pairs = []\n",
    "    \n",
    "    \n",
    "    for i in range(len(alphanumeric) - 1):\n",
    "        current_num = alphanumeric[i]\n",
    "        next_num = alphanumeric[i + 1]\n",
    "\n",
    "        current_letters = num_to_letters.get(current_num, '')\n",
    "        next_letters = num_to_letters.get(next_num, '')\n",
    "\n",
    "        for current_letter in current_letters:\n",
    "            for next_letter in next_letters:\n",
    "                pairs.append((current_letter, next_letter))\n",
    "\n",
    "    return pairs\n",
    "\n",
    "\n",
    "input_value = \"234\"\n",
    "pairs = generate_pairs(input_value)\n",
    "\n",
    "\n",
    "for pair in pairs:\n",
    "    print(pair)\n"
   ]
  },
  {
   "cell_type": "code",
   "execution_count": null,
   "id": "e858a56a",
   "metadata": {},
   "outputs": [],
   "source": []
  }
 ],
 "metadata": {
  "kernelspec": {
   "display_name": "Python 3 (ipykernel)",
   "language": "python",
   "name": "python3"
  }
 },
 "nbformat": 4,
 "nbformat_minor": 5
}
