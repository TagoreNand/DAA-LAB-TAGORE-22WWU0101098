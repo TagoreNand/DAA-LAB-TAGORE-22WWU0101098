{
 "cells": [
  {
   "cell_type": "code",
   "execution_count": 1,
   "id": "f74e94b1",
   "metadata": {},
   "outputs": [
    {
     "name": "stdout",
     "output_type": "stream",
     "text": [
      "112\n",
      "234\n",
      "Multiplication result: 4\n"
     ]
    }
   ],
   "source": [
    "def booth_multiplication(x, y):\n",
    "    if x < 0 or y < 0:\n",
    "        raise ValueError(\"Both numbers should be non-negative.\")\n",
    "\n",
    "    n = max(x.bit_length(), y.bit_length())\n",
    "    A = x\n",
    "    S = -x\n",
    "    P = y\n",
    "    P_1 = 0\n",
    "\n",
    "    for _ in range(n):\n",
    "        if P & 1 and not P_1:\n",
    "            A += y\n",
    "        elif not P & 1 and P_1:\n",
    "            A -= y\n",
    "\n",
    "        P_1 = P & 1\n",
    "        P >>= 1\n",
    "        A >>= 1\n",
    "\n",
    "        if A < 0:\n",
    "            P |= 1 << (n - 1)\n",
    "            A += x\n",
    "        else:\n",
    "            P &= ~(1 << (n - 1))\n",
    "\n",
    "    return P\n",
    "\n",
    "\n",
    "x = int (input (\"1\")) \n",
    "y = int (input (\"2\"))\n",
    "result = booth_multiplication(x, y)\n",
    "print(\"Multiplication result:\", result)  "
   ]
  },
  {
   "cell_type": "code",
   "execution_count": null,
   "id": "9f742150",
   "metadata": {},
   "outputs": [],
   "source": []
  }
 ],
 "metadata": {
  "kernelspec": {
   "display_name": "Python 3 (ipykernel)",
   "language": "python",
   "name": "python3"
  },
  "language_info": {
   "codemirror_mode": {
    "name": "ipython",
    "version": 3
   },
   "file_extension": ".py",
   "mimetype": "text/x-python",
   "name": "python",
   "nbconvert_exporter": "python",
   "pygments_lexer": "ipython3",
   "version": "3.11.5"
  }
 },
 "nbformat": 4,
 "nbformat_minor": 5
}
