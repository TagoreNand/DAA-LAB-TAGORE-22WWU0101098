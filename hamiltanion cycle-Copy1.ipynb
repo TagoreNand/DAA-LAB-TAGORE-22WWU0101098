{
 "cells": [
  {
   "cell_type": "code",
   "execution_count": 1,
   "id": "42206e82",
   "metadata": {},
   "outputs": [
    {
     "ename": "AttributeError",
     "evalue": "module 'networkx' has no attribute 'is_hamiltonian'",
     "output_type": "error",
     "traceback": [
      "\u001b[1;31m---------------------------------------------------------------------------\u001b[0m",
      "\u001b[1;31mAttributeError\u001b[0m                            Traceback (most recent call last)",
      "Cell \u001b[1;32mIn[1], line 10\u001b[0m\n\u001b[0;32m      7\u001b[0m G \u001b[38;5;241m=\u001b[39m nx\u001b[38;5;241m.\u001b[39mGraph()\n\u001b[0;32m      8\u001b[0m G\u001b[38;5;241m.\u001b[39madd_edges_from([(\u001b[38;5;241m1\u001b[39m, \u001b[38;5;241m2\u001b[39m), (\u001b[38;5;241m2\u001b[39m, \u001b[38;5;241m3\u001b[39m), (\u001b[38;5;241m3\u001b[39m, \u001b[38;5;241m4\u001b[39m), (\u001b[38;5;241m4\u001b[39m, \u001b[38;5;241m5\u001b[39m), (\u001b[38;5;241m5\u001b[39m, \u001b[38;5;241m6\u001b[39m), (\u001b[38;5;241m6\u001b[39m, \u001b[38;5;241m7\u001b[39m), (\u001b[38;5;241m7\u001b[39m, \u001b[38;5;241m8\u001b[39m), (\u001b[38;5;241m8\u001b[39m, \u001b[38;5;241m9\u001b[39m), (\u001b[38;5;241m9\u001b[39m, \u001b[38;5;241m10\u001b[39m), (\u001b[38;5;241m10\u001b[39m, \u001b[38;5;241m1\u001b[39m), (\u001b[38;5;241m1\u001b[39m, \u001b[38;5;241m11\u001b[39m)])\n\u001b[1;32m---> 10\u001b[0m \u001b[38;5;28;01mif\u001b[39;00m is_hamiltonian_cycle(G):\n\u001b[0;32m     11\u001b[0m     \u001b[38;5;28mprint\u001b[39m(\u001b[38;5;124m\"\u001b[39m\u001b[38;5;124mThe graph is a Hamiltonian cycle.\u001b[39m\u001b[38;5;124m\"\u001b[39m)\n\u001b[0;32m     12\u001b[0m \u001b[38;5;28;01melse\u001b[39;00m:\n",
      "Cell \u001b[1;32mIn[1], line 4\u001b[0m, in \u001b[0;36mis_hamiltonian_cycle\u001b[1;34m(graph)\u001b[0m\n\u001b[0;32m      3\u001b[0m \u001b[38;5;28;01mdef\u001b[39;00m \u001b[38;5;21mis_hamiltonian_cycle\u001b[39m(graph):\n\u001b[1;32m----> 4\u001b[0m     \u001b[38;5;28;01mreturn\u001b[39;00m \u001b[38;5;28mlen\u001b[39m(graph\u001b[38;5;241m.\u001b[39medges()) \u001b[38;5;241m==\u001b[39m \u001b[38;5;28mlen\u001b[39m(graph\u001b[38;5;241m.\u001b[39mnodes()) \u001b[38;5;129;01mand\u001b[39;00m nx\u001b[38;5;241m.\u001b[39mis_connected(graph) \u001b[38;5;129;01mand\u001b[39;00m nx\u001b[38;5;241m.\u001b[39mis_hamiltonian(graph)\n",
      "\u001b[1;31mAttributeError\u001b[0m: module 'networkx' has no attribute 'is_hamiltonian'"
     ]
    }
   ],
   "source": [
    "import networkx as nx\n",
    "\n",
    "def is_hamiltonian_cycle(graph):\n",
    "    return len(graph.edges()) == len(graph.nodes()) and nx.is_connected(graph) and nx.is_hamiltonian(graph)\n",
    "\n",
    "\n",
    "G = nx.Graph()\n",
    "G.add_edges_from([(1, 2), (2, 3), (3, 4), (4, 5), (5, 6), (6, 7), (7, 8), (8, 9), (9, 10), (10, 1), (1, 11)])\n",
    "\n",
    "if is_hamiltonian_cycle(G):\n",
    "    print(\"The graph is a Hamiltonian cycle.\")\n",
    "else:\n",
    "    print(\"The graph is not a Hamiltonian cycle.\")"
   ]
  },
  {
   "cell_type": "code",
   "execution_count": null,
   "id": "e2dccd35",
   "metadata": {},
   "outputs": [],
   "source": []
  }
 ],
 "metadata": {
  "kernelspec": {
   "display_name": "Python 3 (ipykernel)",
   "language": "python",
   "name": "python3"
  },
  "language_info": {
   "codemirror_mode": {
    "name": "ipython",
    "version": 3
   },
   "file_extension": ".py",
   "mimetype": "text/x-python",
   "name": "python",
   "nbconvert_exporter": "python",
   "pygments_lexer": "ipython3",
   "version": "3.11.5"
  }
 },
 "nbformat": 4,
 "nbformat_minor": 5
}
