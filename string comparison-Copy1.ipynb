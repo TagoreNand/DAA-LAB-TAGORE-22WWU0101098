{
 "cells": [
  {
   "cell_type": "code",
   "execution_count": 2,
   "id": "f3a7847e",
   "metadata": {},
   "outputs": [
    {
     "name": "stdout",
     "output_type": "stream",
     "text": [
      "cdef\n"
     ]
    }
   ],
   "source": [
    "import os\n",
    "\n",
    "def make_strings_equal(str1, str2):\n",
    "    common_prefix_len = len(os.path.commonprefix([str1, str2]))\n",
    "    common_suffix_len = len(os.path.commonprefix([str1[::-1], str2[::-1]]))\n",
    "    \n",
    "    common_str = str1[common_prefix_len : -common_suffix_len] if common_suffix_len > 0 else str1[common_prefix_len:]\n",
    "    \n",
    "    return common_str\n",
    "\n",
    "str1 = \"abcdef12345\"\n",
    "str2 = \"abxyz12345\"\n",
    "equal_str = make_strings_equal(str1, str2)\n",
    "print(equal_str) "
   ]
  },
  {
   "cell_type": "code",
   "execution_count": null,
   "id": "eaa86586",
   "metadata": {},
   "outputs": [],
   "source": []
  }
 ],
 "metadata": {
  "kernelspec": {
   "display_name": "Python 3 (ipykernel)",
   "language": "python",
   "name": "python3"
  },
  "language_info": {
   "codemirror_mode": {
    "name": "ipython",
    "version": 3
   },
   "file_extension": ".py",
   "mimetype": "text/x-python",
   "name": "python",
   "nbconvert_exporter": "python",
   "pygments_lexer": "ipython3",
   "version": "3.11.5"
  }
 },
 "nbformat": 4,
 "nbformat_minor": 5
}
