{
 "cells": [
  {
   "cell_type": "code",
   "execution_count": 1,
   "id": "9dd1f868",
   "metadata": {},
   "outputs": [
    {
     "name": "stdout",
     "output_type": "stream",
     "text": [
      "Enter size of array : 5\n",
      "1 2 4 56 70203 2323\n"
     ]
    },
    {
     "ename": "ValueError",
     "evalue": "invalid literal for int() with base 10: '1 2 4 56 70203 2323'",
     "output_type": "error",
     "traceback": [
      "\u001b[1;31m---------------------------------------------------------------------------\u001b[0m",
      "\u001b[1;31mValueError\u001b[0m                                Traceback (most recent call last)",
      "Cell \u001b[1;32mIn[1], line 5\u001b[0m\n\u001b[0;32m      3\u001b[0m count \u001b[38;5;241m=\u001b[39m \u001b[38;5;241m0\u001b[39m\n\u001b[0;32m      4\u001b[0m \u001b[38;5;28;01mfor\u001b[39;00m i \u001b[38;5;129;01min\u001b[39;00m \u001b[38;5;28mrange\u001b[39m(\u001b[38;5;241m0\u001b[39m, n):\n\u001b[1;32m----> 5\u001b[0m     a \u001b[38;5;241m=\u001b[39m \u001b[38;5;28mint\u001b[39m(\u001b[38;5;28minput\u001b[39m())\n\u001b[0;32m      6\u001b[0m     array\u001b[38;5;241m.\u001b[39mappend(a)\n\u001b[0;32m      7\u001b[0m \u001b[38;5;28mprint\u001b[39m(array)\n",
      "\u001b[1;31mValueError\u001b[0m: invalid literal for int() with base 10: '1 2 4 56 70203 2323'"
     ]
    }
   ],
   "source": [
    "n = int(input(\"Enter size of array : \"))\n",
    "array = []\n",
    "count = 0\n",
    "for i in range(0, n):\n",
    "    a = int(input())\n",
    "    array.append(a)\n",
    "print(array)\n",
    "for i in range(0, n):\n",
    "    for j in range(i + 1, n):\n",
    "        if array[i] > array[j] and i < j:\n",
    "            print(array[i], array[j])\n",
    "            count += 1\n",
    "print(\"Number of inversion pairs : \", count)"
   ]
  },
  {
   "cell_type": "code",
   "execution_count": null,
   "id": "81c84046",
   "metadata": {},
   "outputs": [],
   "source": []
  }
 ],
 "metadata": {
  "kernelspec": {
   "display_name": "Python 3 (ipykernel)",
   "language": "python",
   "name": "python3"
  },
  "language_info": {
   "codemirror_mode": {
    "name": "ipython",
    "version": 3
   },
   "file_extension": ".py",
   "mimetype": "text/x-python",
   "name": "python",
   "nbconvert_exporter": "python",
   "pygments_lexer": "ipython3",
   "version": "3.11.5"
  }
 },
 "nbformat": 4,
 "nbformat_minor": 5
}
