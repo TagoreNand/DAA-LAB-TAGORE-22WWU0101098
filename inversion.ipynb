{
 "cells": [
  {
   "cell_type": "code",
   "execution_count": 1,
   "id": "312d3e3d",
   "metadata": {},
   "outputs": [
    {
     "name": "stdout",
     "output_type": "stream",
     "text": [
      "(8,4)\n",
      "(4,2)\n",
      "(2,1)\n"
     ]
    }
   ],
   "source": [
    "numbers = [8,4,2,1]\n",
    "\n",
    "\n",
    "for i in range(len(numbers) - 1):\n",
    "    current_element = numbers[i]\n",
    "    next_element = numbers[i + 1]\n",
    "    \n",
    "    if current_element > next_element and i < i + 1:\n",
    "        print(f\"({current_element},{next_element})\")"
   ]
  },
  {
   "cell_type": "code",
   "execution_count": null,
   "id": "134176f6",
   "metadata": {},
   "outputs": [],
   "source": []
  }
 ],
 "metadata": {
  "kernelspec": {
   "display_name": "Python 3 (ipykernel)",
   "language": "python",
   "name": "python3"
  },
  "language_info": {
   "codemirror_mode": {
    "name": "ipython",
    "version": 3
   },
   "file_extension": ".py",
   "mimetype": "text/x-python",
   "name": "python",
   "nbconvert_exporter": "python",
   "pygments_lexer": "ipython3",
   "version": "3.11.5"
  }
 },
 "nbformat": 4,
 "nbformat_minor": 5
}
