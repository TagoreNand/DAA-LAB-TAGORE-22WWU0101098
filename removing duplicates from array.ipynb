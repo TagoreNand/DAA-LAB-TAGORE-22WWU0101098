{
 "cells": [
  {
   "cell_type": "code",
   "execution_count": 1,
   "id": "27690120",
   "metadata": {},
   "outputs": [
    {
     "name": "stdout",
     "output_type": "stream",
     "text": [
      "[1, 12, 11, 10]\n"
     ]
    }
   ],
   "source": [
    "def remove_duplicates(arr):\n",
    "    if not arr:\n",
    "        return []\n",
    "\n",
    "    unique_elements = []\n",
    "    for item in arr:\n",
    "        if item not in unique_elements:\n",
    "            unique_elements.append(item)\n",
    "\n",
    "    return unique_elements\n",
    "\n",
    "\n",
    "input_list = [1, 12, 11, 10, 11, 1]\n",
    "result = remove_duplicates(input_list)\n",
    "print(result)"
   ]
  },
  {
   "cell_type": "code",
   "execution_count": null,
   "id": "7b912d79",
   "metadata": {},
   "outputs": [],
   "source": []
  },
  {
   "cell_type": "code",
   "execution_count": null,
   "id": "7e911642",
   "metadata": {},
   "outputs": [],
   "source": []
  }
 ],
 "metadata": {
  "kernelspec": {
   "display_name": "Python 3 (ipykernel)",
   "language": "python",
   "name": "python3"
  },
  "language_info": {
   "codemirror_mode": {
    "name": "ipython",
    "version": 3
   },
   "file_extension": ".py",
   "mimetype": "text/x-python",
   "name": "python",
   "nbconvert_exporter": "python",
   "pygments_lexer": "ipython3",
   "version": "3.11.5"
  }
 },
 "nbformat": 4,
 "nbformat_minor": 5
}
