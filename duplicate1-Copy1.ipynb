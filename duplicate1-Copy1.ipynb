{
 "cells": [
  {
   "cell_type": "code",
   "execution_count": 1,
   "id": "d2e584db",
   "metadata": {},
   "outputs": [
    {
     "name": "stdout",
     "output_type": "stream",
     "text": [
      "Array with duplicates: [1, 12, 11, 10, 11, 1]\n",
      "Array without duplicates: [1, 12, 11, 10]\n"
     ]
    }
   ],
   "source": [
    "my_array = [1,12,11,10,11,1]\n",
    "\n",
    "\n",
    "print(\"Array with duplicates:\", my_array)\n",
    "\n",
    "\n",
    "unique_array = []\n",
    "\n",
    "\n",
    "for item in my_array:\n",
    "    \n",
    "    if item not in unique_array:\n",
    "        unique_array.append(item)\n",
    "\n",
    "\n",
    "print(\"Array without duplicates:\", unique_array)"
   ]
  },
  {
   "cell_type": "code",
   "execution_count": null,
   "id": "3a825e94",
   "metadata": {},
   "outputs": [],
   "source": []
  },
  {
   "cell_type": "code",
   "execution_count": null,
   "id": "31ab8850",
   "metadata": {},
   "outputs": [],
   "source": []
  }
 ],
 "metadata": {
  "kernelspec": {
   "display_name": "Python 3 (ipykernel)",
   "language": "python",
   "name": "python3"
  },
  "language_info": {
   "codemirror_mode": {
    "name": "ipython",
    "version": 3
   },
   "file_extension": ".py",
   "mimetype": "text/x-python",
   "name": "python",
   "nbconvert_exporter": "python",
   "pygments_lexer": "ipython3",
   "version": "3.11.5"
  }
 },
 "nbformat": 4,
 "nbformat_minor": 5
}
