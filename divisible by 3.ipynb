{
 "cells": [
  {
   "cell_type": "code",
   "execution_count": 1,
   "id": "4885164b",
   "metadata": {},
   "outputs": [
    {
     "name": "stdout",
     "output_type": "stream",
     "text": [
      "R: 2430\n"
     ]
    }
   ],
   "source": [
    "matrix = [[1,3,2], [9,4,2], [6,8,15]]\n",
    "div3 = []\n",
    "for row in matrix:\n",
    "    for e in row:\n",
    "        if e % 3 == 0:\n",
    "            div3.append(e)\n",
    "\n",
    "re = 1\n",
    "for e in div3:\n",
    "    re *= e\n",
    "\n",
    "if re > 50:\n",
    "    print(\"R:\", re)\n",
    "else:\n",
    "    print(\"Result is not above 50.\")"
   ]
  },
  {
   "cell_type": "code",
   "execution_count": null,
   "id": "7fcb91de",
   "metadata": {},
   "outputs": [],
   "source": []
  }
 ],
 "metadata": {
  "kernelspec": {
   "display_name": "Python 3 (ipykernel)",
   "language": "python",
   "name": "python3"
  },
  "language_info": {
   "codemirror_mode": {
    "name": "ipython",
    "version": 3
   },
   "file_extension": ".py",
   "mimetype": "text/x-python",
   "name": "python",
   "nbconvert_exporter": "python",
   "pygments_lexer": "ipython3",
   "version": "3.11.5"
  }
 },
 "nbformat": 4,
 "nbformat_minor": 5
}
