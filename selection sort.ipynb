{
 "cells": [
  {
   "cell_type": "code",
   "execution_count": 3,
   "id": "3293f674",
   "metadata": {},
   "outputs": [
    {
     "name": "stdout",
     "output_type": "stream",
     "text": [
      "Enter a list of values separated by spaces: 1 2 34 76 23\n",
      "Original list: [1, 2, 34, 76, 23]\n",
      "Sorted list: [1, 2, 23, 34, 76]\n"
     ]
    }
   ],
   "source": [
    "def selection_sort(arr):\n",
    "    n = len(arr)\n",
    "\n",
    "    for i in range(n):\n",
    "        min_index = i\n",
    "        for j in range(i + 1, n):\n",
    "            if arr[j] < arr[min_index]:\n",
    "                min_index = j\n",
    "\n",
    "        arr[i], arr[min_index] = arr[min_index], arr[i]\n",
    "\n",
    "def get_user_input():\n",
    "    input_values = input(\"Enter a list of values separated by spaces: \")\n",
    "    input_list = [int(x) for x in input_values.split()]\n",
    "    return input_list\n",
    "\n",
    "user_list = get_user_input()\n",
    "print(\"Original list:\", user_list)\n",
    "\n",
    "selection_sort(user_list)\n",
    "print(\"Sorted list:\", user_list)"
   ]
  },
  {
   "cell_type": "code",
   "execution_count": null,
   "id": "001d5cfc",
   "metadata": {},
   "outputs": [],
   "source": []
  }
 ],
 "metadata": {
  "kernelspec": {
   "display_name": "Python 3 (ipykernel)",
   "language": "python",
   "name": "python3"
  },
  "language_info": {
   "codemirror_mode": {
    "name": "ipython",
    "version": 3
   },
   "file_extension": ".py",
   "mimetype": "text/x-python",
   "name": "python",
   "nbconvert_exporter": "python",
   "pygments_lexer": "ipython3",
   "version": "3.11.5"
  }
 },
 "nbformat": 4,
 "nbformat_minor": 5
}
