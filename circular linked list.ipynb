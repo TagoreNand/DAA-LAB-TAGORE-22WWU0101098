{
 "cells": [
  {
   "cell_type": "code",
   "execution_count": 2,
   "id": "02d56c21",
   "metadata": {},
   "outputs": [
    {
     "name": "stdout",
     "output_type": "stream",
     "text": [
      "True\n"
     ]
    }
   ],
   "source": [
    "class ListNode:\n",
    "    def __init__(self, value):\n",
    "        self.value = value\n",
    "        self.next = None\n",
    "\n",
    "def is_circular_linked_list(head):\n",
    "    if not head:\n",
    "        return False\n",
    "    \n",
    "    slow = head\n",
    "    fast = head\n",
    "    \n",
    "    while fast and fast.next:\n",
    "        slow = slow.next\n",
    "        fast = fast.next.next\n",
    "        \n",
    "        if slow == fast:\n",
    "            return True\n",
    "    \n",
    "    return False\n",
    "\n",
    "node1 = ListNode(10)\n",
    "node2 = ListNode(200)\n",
    "node3 = ListNode(3000)\n",
    "node4 = ListNode(40000)\n",
    "\n",
    "node1.next = node2\n",
    "node2.next = node3\n",
    "node3.next = node4\n",
    "node4.next = node1\n",
    "\n",
    "print(is_circular_linked_list(node1))"
   ]
  },
  {
   "cell_type": "code",
   "execution_count": null,
   "id": "c8f90cca",
   "metadata": {},
   "outputs": [],
   "source": []
  }
 ],
 "metadata": {
  "kernelspec": {
   "display_name": "Python 3 (ipykernel)",
   "language": "python",
   "name": "python3"
  },
  "language_info": {
   "codemirror_mode": {
    "name": "ipython",
    "version": 3
   },
   "file_extension": ".py",
   "mimetype": "text/x-python",
   "name": "python",
   "nbconvert_exporter": "python",
   "pygments_lexer": "ipython3",
   "version": "3.11.5"
  }
 },
 "nbformat": 4,
 "nbformat_minor": 5
}
