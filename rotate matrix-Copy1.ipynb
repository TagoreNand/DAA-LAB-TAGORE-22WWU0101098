{
 "cells": [
  {
   "cell_type": "code",
   "execution_count": 1,
   "id": "ec09a8f1",
   "metadata": {},
   "outputs": [
    {
     "name": "stdout",
     "output_type": "stream",
     "text": [
      "[7, 4, 1]\n",
      "[8, 5, 2]\n",
      "[9, 6, 3]\n"
     ]
    }
   ],
   "source": [
    "def rotate_matrix_90_degrees(matrix):\n",
    "    if not matrix:\n",
    "        return []\n",
    "    \n",
    "    \n",
    "    rows, cols = len(matrix), len(matrix[0])\n",
    "    \n",
    "    \n",
    "    transposed_matrix = [[matrix[j][i] for j in range(rows)] for i in range(cols)]\n",
    "    \n",
    "   \n",
    "    rotated_matrix = [row[::-1] for row in transposed_matrix]\n",
    "    \n",
    "    return rotated_matrix\n",
    "\n",
    "\n",
    "original_matrix = [\n",
    "    [1, 2, 3],\n",
    "    [4, 5, 6],\n",
    "    [7, 8, 9]\n",
    "]\n",
    "\n",
    "rotated_matrix = rotate_matrix_90_degrees(original_matrix)\n",
    "for row in rotated_matrix:\n",
    "    print(row)"
   ]
  },
  {
   "cell_type": "code",
   "execution_count": null,
   "id": "c7adda0f",
   "metadata": {},
   "outputs": [],
   "source": []
  }
 ],
 "metadata": {
  "kernelspec": {
   "display_name": "Python 3 (ipykernel)",
   "language": "python",
   "name": "python3"
  },
  "language_info": {
   "codemirror_mode": {
    "name": "ipython",
    "version": 3
   },
   "file_extension": ".py",
   "mimetype": "text/x-python",
   "name": "python",
   "nbconvert_exporter": "python",
   "pygments_lexer": "ipython3",
   "version": "3.11.5"
  }
 },
 "nbformat": 4,
 "nbformat_minor": 5
}
