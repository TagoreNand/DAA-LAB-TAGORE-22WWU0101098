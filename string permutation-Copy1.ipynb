{
 "cells": [
  {
   "cell_type": "code",
   "execution_count": null,
   "id": "4a6396f2",
   "metadata": {},
   "outputs": [],
   "source": [
    "def permute(text, position=0):\n",
    "    if position == len(text):\n",
    "        print(\"\".join(text))\n",
    "        return\n",
    "\n",
    "    for i in range(position, len(text)):\n",
    "        text[position], text[i] = text[i], text[position]\n",
    "\n",
    "        permute(text, position + 1)\n",
    "\n",
    "        text[position], text[i] = text[i], text[position]\n",
    "\n",
    "inp = input(\"Enter a string: \") \n",
    "inp_lst = list(inp)\n",
    "\n",
    "permute(inp_lst)"
   ]
  },
  {
   "cell_type": "code",
   "execution_count": null,
   "id": "d9bb735f",
   "metadata": {},
   "outputs": [],
   "source": []
  }
 ],
 "metadata": {
  "kernelspec": {
   "display_name": "Python 3 (ipykernel)",
   "language": "python",
   "name": "python3"
  },
  "language_info": {
   "codemirror_mode": {
    "name": "ipython",
    "version": 3
   },
   "file_extension": ".py",
   "mimetype": "text/x-python",
   "name": "python",
   "nbconvert_exporter": "python",
   "pygments_lexer": "ipython3",
   "version": "3.11.5"
  }
 },
 "nbformat": 4,
 "nbformat_minor": 5
}
