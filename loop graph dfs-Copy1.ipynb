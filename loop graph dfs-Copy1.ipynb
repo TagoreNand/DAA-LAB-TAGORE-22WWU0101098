{
 "cells": [
  {
   "cell_type": "code",
   "execution_count": 2,
   "id": "a2d9f607",
   "metadata": {},
   "outputs": [
    {
     "name": "stdout",
     "output_type": "stream",
     "text": [
      "The directed graph contains a loop.\n"
     ]
    }
   ],
   "source": [
    "class Graph:\n",
    "    def __init__(self, vertices):\n",
    "        self.vertices = vertices\n",
    "        self.graph = [[] for _ in range(vertices)]\n",
    "\n",
    "    def add_edge(self, u, v):\n",
    "        self.graph[u].append(v)\n",
    "\n",
    "    def is_cyc(self, visited, rec_stac, node):\n",
    "        visited[node] = True\n",
    "        rec_stac[node] = True\n",
    "\n",
    "        def dfs(neighbor):\n",
    "            return visited[neighbor] or rec_stac[neighbor] or self.is_cyc(visited, rec_stac, neighbor)\n",
    "\n",
    "        return any(dfs(neighbor) for neighbor in self.graph[node])\n",
    "\n",
    "    def is_cyclic(self):\n",
    "        visited = [False] * self.vertices\n",
    "        rec_stac = [False] * self.vertices\n",
    "\n",
    "        return any(self.is_cyc(visited, rec_stac, node) for node in range(self.vertices))\n",
    "\n",
    "\n",
    "a = Graph(5)\n",
    "a.add_edge(1, 2)\n",
    "a.add_edge(4, 1)\n",
    "a.add_edge(4, 3)\n",
    "a.add_edge(3, 2)\n",
    "\n",
    "if a.is_cyclic():\n",
    "    print(\"The directed graph contains a loop.\")\n",
    "else:\n",
    "    print(\"The directed graph does not contain a loop.\")\n",
    "\n"
   ]
  },
  {
   "cell_type": "code",
   "execution_count": null,
   "id": "c3499523",
   "metadata": {},
   "outputs": [],
   "source": []
  }
 ],
 "metadata": {
  "kernelspec": {
   "display_name": "Python 3 (ipykernel)",
   "language": "python",
   "name": "python3"
  },
  "language_info": {
   "codemirror_mode": {
    "name": "ipython",
    "version": 3
   },
   "file_extension": ".py",
   "mimetype": "text/x-python",
   "name": "python",
   "nbconvert_exporter": "python",
   "pygments_lexer": "ipython3",
   "version": "3.11.5"
  }
 },
 "nbformat": 4,
 "nbformat_minor": 5
}
